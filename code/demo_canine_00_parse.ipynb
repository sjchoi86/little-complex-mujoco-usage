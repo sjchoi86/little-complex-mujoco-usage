{
 "cells": [
  {
   "cell_type": "markdown",
   "id": "868fc80d",
   "metadata": {},
   "source": [
    "### Parse `Canine` in MuJoCo"
   ]
  },
  {
   "cell_type": "code",
   "execution_count": 1,
   "id": "26e85a03",
   "metadata": {},
   "outputs": [
    {
     "name": "stdout",
     "output_type": "stream",
     "text": [
      "Ready.\n"
     ]
    }
   ],
   "source": [
    "import numpy as np\n",
    "import matplotlib.pyplot as plt\n",
    "from mujoco_parser import MuJoCoParserClass\n",
    "np.set_printoptions(precision=2)\n",
    "plt.rc('xtick',labelsize=6); plt.rc('ytick',labelsize=6)\n",
    "%config InlineBackend.figure_format = 'retina'\n",
    "%matplotlib inline\n",
    "print (\"Ready.\")"
   ]
  },
  {
   "cell_type": "markdown",
   "id": "3a2fe18d",
   "metadata": {},
   "source": [
    "### Parse"
   ]
  },
  {
   "cell_type": "code",
   "execution_count": 2,
   "id": "4807c360",
   "metadata": {},
   "outputs": [
    {
     "name": "stdout",
     "output_type": "stream",
     "text": [
      "Creating window glfw\n",
      "Done.\n"
     ]
    }
   ],
   "source": [
    "env = MuJoCoParserClass(name='Canine',xml_path='../../canine/urdf/canineV1_urdf.xml')\n",
    "env.init_viewer(window_width=0.5,window_height=0.5,\n",
    "                cam_azimuth=80.0,cam_distance=3.0,\n",
    "                cam_elevation=-30.0,cam_lookat=np.array([0,0,1.5]))\n",
    "print (\"Done.\")"
   ]
  },
  {
   "cell_type": "code",
   "execution_count": 3,
   "id": "e5057314",
   "metadata": {},
   "outputs": [
    {
     "name": "stdout",
     "output_type": "stream",
     "text": [
      "[Canine] Instantiated from [/Users/sj/Dropbox/Mac/Implementation/canine/urdf/canineV1_urdf.xml]\n",
      "- Simulation timestep is [0.0020]sec and frequency is [500]HZ\n",
      "- [Canine] has [13] bodies\n",
      " [00] body name:[world]\n",
      " [01] body name:[RF_hip]\n",
      " [02] body name:[RF_thigh]\n",
      " [03] body name:[RF_calf]\n",
      " [04] body name:[LF_hip]\n",
      " [05] body name:[LF_thigh]\n",
      " [06] body name:[LF_calf]\n",
      " [07] body name:[RH_hip]\n",
      " [08] body name:[RH_thigh]\n",
      " [09] body name:[RH_calf]\n",
      " [10] body name:[LH_hip]\n",
      " [11] body name:[LH_thigh]\n",
      " [12] body name:[LH_calf]\n",
      "- [Canine] has [12] joints\n",
      " [00] name:[RF_HIP] type:[revolute] joint range:[0.00 to 0.00]\n",
      " [01] name:[RF_THIGH] type:[revolute] joint range:[0.00 to 0.00]\n",
      " [02] name:[RF_KNEE] type:[revolute] joint range:[0.00 to 0.00]\n",
      " [03] name:[LF_HIP] type:[revolute] joint range:[0.00 to 0.00]\n",
      " [04] name:[LF_THIGH] type:[revolute] joint range:[0.00 to 0.00]\n",
      " [05] name:[LF_KNEE] type:[revolute] joint range:[0.00 to 0.00]\n",
      " [06] name:[RH_HIP] type:[revolute] joint range:[0.00 to 0.00]\n",
      " [07] name:[RH_THIGH] type:[revolute] joint range:[0.00 to 0.00]\n",
      " [08] name:[RH_KNEE] type:[revolute] joint range:[0.00 to 0.00]\n",
      " [09] name:[LH_HIP] type:[revolute] joint range:[0.00 to 0.00]\n",
      " [10] name:[LH_THIGH] type:[revolute] joint range:[0.00 to 0.00]\n",
      " [11] name:[LH_KNEE] type:[revolute] joint range:[0.00 to 0.00]\n",
      "- [Canine] has [12] revolute joints\n",
      " [00] joint index:[0] and name:[RF_HIP]\n",
      " [01] joint index:[1] and name:[RF_THIGH]\n",
      " [02] joint index:[2] and name:[RF_KNEE]\n",
      " [03] joint index:[3] and name:[LF_HIP]\n",
      " [04] joint index:[4] and name:[LF_THIGH]\n",
      " [05] joint index:[5] and name:[LF_KNEE]\n",
      " [06] joint index:[6] and name:[RH_HIP]\n",
      " [07] joint index:[7] and name:[RH_THIGH]\n",
      " [08] joint index:[8] and name:[RH_KNEE]\n",
      " [09] joint index:[9] and name:[LH_HIP]\n",
      " [10] joint index:[10] and name:[LH_THIGH]\n",
      " [11] joint index:[11] and name:[LH_KNEE]\n",
      "- [Canine] has [0] actuators\n",
      "- [Canine] has [0] geometries\n"
     ]
    }
   ],
   "source": [
    "env.print_env_info()"
   ]
  },
  {
   "cell_type": "code",
   "execution_count": 5,
   "id": "462ed1b3",
   "metadata": {},
   "outputs": [
    {
     "ename": "TypeError",
     "evalue": "'NoneType' object does not support item assignment",
     "output_type": "error",
     "traceback": [
      "\u001b[0;31m---------------------------------------------------------------------------\u001b[0m",
      "\u001b[0;31mTypeError\u001b[0m                                 Traceback (most recent call last)",
      "Input \u001b[0;32mIn [5]\u001b[0m, in \u001b[0;36m<cell line: 5>\u001b[0;34m()\u001b[0m\n\u001b[1;32m      5\u001b[0m \u001b[38;5;28;01mwhile\u001b[39;00m env\u001b[38;5;241m.\u001b[39mtick \u001b[38;5;241m<\u001b[39m max_tick:\n\u001b[1;32m      6\u001b[0m     torque \u001b[38;5;241m=\u001b[39m np\u001b[38;5;241m.\u001b[39mzeros(env\u001b[38;5;241m.\u001b[39mn_rev_joint) \u001b[38;5;66;03m# zero torque\u001b[39;00m\n\u001b[0;32m----> 7\u001b[0m     \u001b[43menv\u001b[49m\u001b[38;5;241;43m.\u001b[39;49m\u001b[43mstep\u001b[49m\u001b[43m(\u001b[49m\u001b[43mctrl\u001b[49m\u001b[38;5;241;43m=\u001b[39;49m\u001b[43mtorque\u001b[49m\u001b[43m,\u001b[49m\u001b[43mctrl_idxs\u001b[49m\u001b[38;5;241;43m=\u001b[39;49m\u001b[43menv\u001b[49m\u001b[38;5;241;43m.\u001b[39;49m\u001b[43mrev_joint_idxs\u001b[49m\u001b[43m)\u001b[49m\n\u001b[1;32m      8\u001b[0m     \u001b[38;5;66;03m# env.step()\u001b[39;00m\n\u001b[1;32m      9\u001b[0m     env\u001b[38;5;241m.\u001b[39mrender()\n",
      "File \u001b[0;32m~/Dropbox/Mac/Implementation/little-complex-mujoco-usage/code/mujoco_parser.py:232\u001b[0m, in \u001b[0;36mMuJoCoParserClass.step\u001b[0;34m(self, ctrl, ctrl_idxs)\u001b[0m\n\u001b[1;32m    230\u001b[0m         \u001b[38;5;28mself\u001b[39m\u001b[38;5;241m.\u001b[39msim\u001b[38;5;241m.\u001b[39mdata\u001b[38;5;241m.\u001b[39mctrl[:] \u001b[38;5;241m=\u001b[39m ctrl\n\u001b[1;32m    231\u001b[0m     \u001b[38;5;28;01melse\u001b[39;00m:\n\u001b[0;32m--> 232\u001b[0m         \u001b[38;5;28mself\u001b[39m\u001b[38;5;241m.\u001b[39msim\u001b[38;5;241m.\u001b[39mdata\u001b[38;5;241m.\u001b[39mctrl[ctrl_idxs] \u001b[38;5;241m=\u001b[39m ctrl\n\u001b[1;32m    233\u001b[0m \u001b[38;5;66;03m# Forward dynamics\u001b[39;00m\n\u001b[1;32m    234\u001b[0m \u001b[38;5;28mself\u001b[39m\u001b[38;5;241m.\u001b[39msim\u001b[38;5;241m.\u001b[39mstep()\n",
      "\u001b[0;31mTypeError\u001b[0m: 'NoneType' object does not support item assignment"
     ]
    }
   ],
   "source": [
    "env.reset()\n",
    "max_tick = 20000\n",
    "sec_list = np.zeros(max_tick)\n",
    "q_list   = np.zeros((max_tick,env.n_rev_joint))\n",
    "while env.tick < max_tick:\n",
    "    torque = np.zeros(env.n_rev_joint) # zero torque\n",
    "    env.step(ctrl=torque,ctrl_idxs=env.rev_joint_idxs)\n",
    "    # env.step()\n",
    "    env.render()\n",
    "    # Append\n",
    "    sec_list[env.tick-1] = env.get_sim_time()\n",
    "    q_list[env.tick-1,:] = env.get_q_pos(q_pos_idxs=env.rev_joint_idxs)\n",
    "print (\"Done.\")"
   ]
  },
  {
   "cell_type": "code",
   "execution_count": 6,
   "id": "6b582876",
   "metadata": {},
   "outputs": [],
   "source": [
    "env.sim.data.ctrl"
   ]
  },
  {
   "cell_type": "code",
   "execution_count": null,
   "id": "e6ef7d4e",
   "metadata": {},
   "outputs": [],
   "source": []
  }
 ],
 "metadata": {
  "kernelspec": {
   "display_name": "Python 3 (ipykernel)",
   "language": "python",
   "name": "python3"
  },
  "language_info": {
   "codemirror_mode": {
    "name": "ipython",
    "version": 3
   },
   "file_extension": ".py",
   "mimetype": "text/x-python",
   "name": "python",
   "nbconvert_exporter": "python",
   "pygments_lexer": "ipython3",
   "version": "3.9.13"
  }
 },
 "nbformat": 4,
 "nbformat_minor": 5
}
