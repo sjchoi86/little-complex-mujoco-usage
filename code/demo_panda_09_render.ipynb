{
 "cells": [
  {
   "cell_type": "markdown",
   "id": "6a9f31fb",
   "metadata": {},
   "source": [
    "### Rendering of `Panda`"
   ]
  },
  {
   "cell_type": "code",
   "execution_count": 1,
   "id": "1bd981aa",
   "metadata": {},
   "outputs": [
    {
     "name": "stdout",
     "output_type": "stream",
     "text": [
      "Ready.\n"
     ]
    }
   ],
   "source": [
    "import mujoco_py\n",
    "import numpy as np\n",
    "import matplotlib.pyplot as plt\n",
    "from screeninfo import get_monitors # get monitor size\n",
    "from mujoco_parser import MuJoCoParserClass\n",
    "from util import rpy2r\n",
    "np.set_printoptions(precision=2)\n",
    "plt.rc('xtick',labelsize=6); plt.rc('ytick',labelsize=6)\n",
    "%config InlineBackend.figure_format = 'retina'\n",
    "%matplotlib inline\n",
    "print (\"Ready.\")"
   ]
  },
  {
   "cell_type": "markdown",
   "id": "0379d1c7",
   "metadata": {},
   "source": [
    "### Parse "
   ]
  },
  {
   "cell_type": "code",
   "execution_count": 2,
   "id": "8aa1fb21",
   "metadata": {},
   "outputs": [
    {
     "name": "stdout",
     "output_type": "stream",
     "text": [
      "[Panda] parsed.\n"
     ]
    }
   ],
   "source": [
    "env = MuJoCoParserClass(name='Panda',xml_path='../asset/panda/franka_panda.xml')\n",
    "print (\"[%s] parsed.\"%(env.name))"
   ]
  },
  {
   "cell_type": "markdown",
   "id": "efd88946",
   "metadata": {},
   "source": [
    "### Render with markers"
   ]
  },
  {
   "cell_type": "code",
   "execution_count": 3,
   "id": "ef9f9f32",
   "metadata": {
    "scrolled": true
   },
   "outputs": [
    {
     "name": "stdout",
     "output_type": "stream",
     "text": [
      "Creating window glfw\n"
     ]
    },
    {
     "ename": "KeyboardInterrupt",
     "evalue": "",
     "output_type": "error",
     "traceback": [
      "\u001b[0;31m---------------------------------------------------------------------------\u001b[0m",
      "\u001b[0;31mKeyboardInterrupt\u001b[0m                         Traceback (most recent call last)",
      "Input \u001b[0;32mIn [3]\u001b[0m, in \u001b[0;36m<cell line: 6>\u001b[0;34m()\u001b[0m\n\u001b[1;32m     51\u001b[0m     R_coord    \u001b[38;5;241m=\u001b[39m R_eef \u001b[38;5;66;03m# rpy2r(np.deg2rad([0,0,0]))\u001b[39;00m\n\u001b[1;32m     52\u001b[0m     env\u001b[38;5;241m.\u001b[39madd_marker_coordinate(\n\u001b[1;32m     53\u001b[0m         p\u001b[38;5;241m=\u001b[39mp_coord,R\u001b[38;5;241m=\u001b[39mR_coord,axis_len\u001b[38;5;241m=\u001b[39m\u001b[38;5;241m0.5\u001b[39m,axis_width\u001b[38;5;241m=\u001b[39m\u001b[38;5;241m0.01\u001b[39m,label\u001b[38;5;241m=\u001b[39m\u001b[38;5;124m'\u001b[39m\u001b[38;5;124mCoordinate\u001b[39m\u001b[38;5;124m'\u001b[39m)\n\u001b[0;32m---> 54\u001b[0m     \u001b[43menv\u001b[49m\u001b[38;5;241;43m.\u001b[39;49m\u001b[43madd_marker_coordinate\u001b[49m\u001b[43m(\u001b[49m\n\u001b[1;32m     55\u001b[0m \u001b[43m        \u001b[49m\u001b[43mp\u001b[49m\u001b[38;5;241;43m=\u001b[39;49m\u001b[43m[\u001b[49m\u001b[38;5;241;43m0\u001b[39;49m\u001b[43m,\u001b[49m\u001b[38;5;241;43m0\u001b[39;49m\u001b[43m,\u001b[49m\u001b[38;5;241;43m0\u001b[39;49m\u001b[43m]\u001b[49m\u001b[43m,\u001b[49m\u001b[43mR\u001b[49m\u001b[38;5;241;43m=\u001b[39;49m\u001b[43mnp\u001b[49m\u001b[38;5;241;43m.\u001b[39;49m\u001b[43meye\u001b[49m\u001b[43m(\u001b[49m\u001b[38;5;241;43m3\u001b[39;49m\u001b[43m)\u001b[49m\u001b[43m,\u001b[49m\u001b[43maxis_len\u001b[49m\u001b[38;5;241;43m=\u001b[39;49m\u001b[38;5;241;43m0.5\u001b[39;49m\u001b[43m,\u001b[49m\u001b[43maxis_width\u001b[49m\u001b[38;5;241;43m=\u001b[39;49m\u001b[38;5;241;43m0.01\u001b[39;49m\u001b[43m,\u001b[49m\u001b[43mlabel\u001b[49m\u001b[38;5;241;43m=\u001b[39;49m\u001b[38;5;124;43m'\u001b[39;49m\u001b[38;5;124;43mWorld\u001b[39;49m\u001b[38;5;124;43m'\u001b[39;49m\u001b[43m)\u001b[49m\n\u001b[1;32m     57\u001b[0m     env\u001b[38;5;241m.\u001b[39mrender()\n\u001b[1;32m     58\u001b[0m \u001b[38;5;28mprint\u001b[39m (\u001b[38;5;124m\"\u001b[39m\u001b[38;5;124mDone.\u001b[39m\u001b[38;5;124m\"\u001b[39m)\n",
      "File \u001b[0;32m~/Dropbox/Mac/Implementation/little-complex-mujoco-usage/code/mujoco_parser.py:449\u001b[0m, in \u001b[0;36mMuJoCoParserClass.add_marker_coordinate\u001b[0;34m(self, p, R, axis_len, axis_width, rgba, label)\u001b[0m\n\u001b[1;32m    440\u001b[0m \u001b[38;5;28mself\u001b[39m\u001b[38;5;241m.\u001b[39mviewer\u001b[38;5;241m.\u001b[39madd_marker(\n\u001b[1;32m    441\u001b[0m     pos   \u001b[38;5;241m=\u001b[39m p_y,\n\u001b[1;32m    442\u001b[0m     \u001b[38;5;28mtype\u001b[39m  \u001b[38;5;241m=\u001b[39m mujoco_py\u001b[38;5;241m.\u001b[39mgenerated\u001b[38;5;241m.\u001b[39mconst\u001b[38;5;241m.\u001b[39mGEOM_CYLINDER,\n\u001b[0;32m   (...)\u001b[0m\n\u001b[1;32m    446\u001b[0m     label \u001b[38;5;241m=\u001b[39m \u001b[38;5;124m'\u001b[39m\u001b[38;5;124m'\u001b[39m\n\u001b[1;32m    447\u001b[0m )\n\u001b[1;32m    448\u001b[0m R_z \u001b[38;5;241m=\u001b[39m R\u001b[38;5;129m@rpy2r\u001b[39m(np\u001b[38;5;241m.\u001b[39mdeg2rad([\u001b[38;5;241m0\u001b[39m,\u001b[38;5;241m0\u001b[39m,\u001b[38;5;241m90\u001b[39m]))\u001b[38;5;129m@rpy2r\u001b[39m(np\u001b[38;5;241m.\u001b[39mpi\u001b[38;5;241m/\u001b[39m\u001b[38;5;241m2\u001b[39m\u001b[38;5;241m*\u001b[39mnp\u001b[38;5;241m.\u001b[39marray([\u001b[38;5;241m0\u001b[39m,\u001b[38;5;241m0\u001b[39m,\u001b[38;5;241m1\u001b[39m]))\n\u001b[0;32m--> 449\u001b[0m p_z \u001b[38;5;241m=\u001b[39m p \u001b[38;5;241m+\u001b[39m \u001b[43mR_z\u001b[49m\u001b[43m[\u001b[49m\u001b[43m:\u001b[49m\u001b[43m,\u001b[49m\u001b[38;5;241;43m2\u001b[39;49m\u001b[43m]\u001b[49m\u001b[38;5;241;43m*\u001b[39;49m\u001b[43maxis_len\u001b[49m\u001b[38;5;241;43m/\u001b[39;49m\u001b[38;5;241;43m2\u001b[39;49m\n\u001b[1;32m    450\u001b[0m \u001b[38;5;28mself\u001b[39m\u001b[38;5;241m.\u001b[39mviewer\u001b[38;5;241m.\u001b[39madd_marker(\n\u001b[1;32m    451\u001b[0m     pos   \u001b[38;5;241m=\u001b[39m p_z,\n\u001b[1;32m    452\u001b[0m     \u001b[38;5;28mtype\u001b[39m  \u001b[38;5;241m=\u001b[39m mujoco_py\u001b[38;5;241m.\u001b[39mgenerated\u001b[38;5;241m.\u001b[39mconst\u001b[38;5;241m.\u001b[39mGEOM_CYLINDER,\n\u001b[0;32m   (...)\u001b[0m\n\u001b[1;32m    456\u001b[0m     label \u001b[38;5;241m=\u001b[39m \u001b[38;5;124m'\u001b[39m\u001b[38;5;124m'\u001b[39m\n\u001b[1;32m    457\u001b[0m )\n",
      "\u001b[0;31mKeyboardInterrupt\u001b[0m: "
     ]
    }
   ],
   "source": [
    "env.init_viewer(window_width=0.5,window_height=0.5,\n",
    "                cam_azimuth=100.0,cam_distance=3.0,\n",
    "                cam_elevation=-22.0,cam_lookat=np.array([0.3,0.0,1.0]))\n",
    "env.reset()\n",
    "max_tick = 5000\n",
    "while env.tick < max_tick:\n",
    "    # Update\n",
    "    env.step()\n",
    "    \n",
    "    # Get p and R of an end-effector\n",
    "    p_eef = env.get_p_body(body_name='panda_eef')\n",
    "    R_eef = env.get_R_body(body_name='panda_eef')\n",
    "    \n",
    "    # Plot plane\n",
    "    p_plane = [1.0,0.0,0.1]\n",
    "    R_plane = np.eye(3)\n",
    "    env.add_marker_plane(\n",
    "        p=p_plane,R=R_plane,xy_widths=[0.5,0.5],rgba=[0.0,1.0,1.0,0.9],label='Plane')\n",
    "    \n",
    "    # Plot sphere\n",
    "    p_sphere = [1.0,0.0,0.25]\n",
    "    env.add_marker_sphere(\n",
    "        p=p_sphere,radius=0.05,rgba=[1.0,0.0,0.0,0.9],label='Sphere')\n",
    "    \n",
    "    # Plot box\n",
    "    p_box = [1.0,0.0,0.5]\n",
    "    R_box = R_eef # np.eye(3)\n",
    "    env.add_marker_box(\n",
    "        p=p_box,R=R_box,size=[0.025,0.025,0.1],rgba=[0.0,1.0,0.0,0.9],label='Box')\n",
    "    \n",
    "    # Plot capsule\n",
    "    p_capsule = [1.0,0.0,0.75]\n",
    "    R_capsule = R_eef # np.eye(3)\n",
    "    env.add_marker_capsule(\n",
    "        p=p_capsule,R=R_capsule,size=[0.025,0.025,0.1],rgba=[0.0,0.0,1.0,0.9],label='Capsule')\n",
    "        \n",
    "    # Plot cylinder\n",
    "    p_cylinder = [1.0,0.0,1.0]\n",
    "    R_cylinder = R_eef # np.eye(3)\n",
    "    env.add_marker_cylinder(\n",
    "        p=p_cylinder,R=R_cylinder,size=[0.025,0.025,0.1],rgba=[1.0,1.0,0.0,0.9],label='Cylinder')\n",
    "    \n",
    "    # Plot arrow\n",
    "    p_arrow = [1.0,0.0,1.25]\n",
    "    R_arrow = R_eef # np.eye(3)\n",
    "    env.add_marker_arrow(\n",
    "        p=p_arrow,R=R_arrow,size=[0.025,0.025,0.25],rgba=[1.0,0.0,1.0,0.9],label='Arrow')\n",
    "    \n",
    "    # Plot coordinate\n",
    "    p_coord    = [1.0,0.0,1.5]\n",
    "    R_coord    = R_eef # rpy2r(np.deg2rad([0,0,0]))\n",
    "    env.add_marker_coordinate(\n",
    "        p=p_coord,R=R_coord,axis_len=0.5,axis_width=0.01,label='Coordinate')\n",
    "    env.add_marker_coordinate(\n",
    "        p=[0,0,0],R=np.eye(3),axis_len=1.0,axis_width=0.01,label='World')\n",
    "    \n",
    "    env.render()\n",
    "print (\"Done.\")"
   ]
  },
  {
   "cell_type": "code",
   "execution_count": null,
   "id": "e11bc482",
   "metadata": {},
   "outputs": [],
   "source": [
    "env.plot_scene(figsize=(8,5),render_expand=2.0,title_str='Panda (tick:%d)'%(env.tick),title_fs=11)"
   ]
  },
  {
   "cell_type": "markdown",
   "id": "2d017c69",
   "metadata": {},
   "source": [
    "### Render"
   ]
  },
  {
   "cell_type": "code",
   "execution_count": null,
   "id": "9f7e8d8a",
   "metadata": {},
   "outputs": [],
   "source": [
    "env.init_viewer(window_width=0.5,window_height=0.5,\n",
    "                cam_azimuth=80.0,cam_distance=3.0,\n",
    "                cam_elevation=-30.0,cam_lookat=np.array([0,0,1.5]))\n",
    "env.reset()\n",
    "max_tick = 5000\n",
    "while env.tick < max_tick:\n",
    "    env.step()\n",
    "    env.render()\n",
    "print (\"Done.\")"
   ]
  },
  {
   "cell_type": "code",
   "execution_count": null,
   "id": "cd3ac6c3",
   "metadata": {},
   "outputs": [],
   "source": [
    "env.forward_renders()\n",
    "env.plot_scene(figsize=(8,5),render_expand=2.0,title_str='Panda (tick:%d)'%(env.tick),title_fs=11)"
   ]
  },
  {
   "cell_type": "markdown",
   "id": "14efac06",
   "metadata": {},
   "source": [
    "### Get viewer information"
   ]
  },
  {
   "cell_type": "code",
   "execution_count": null,
   "id": "12eb478a",
   "metadata": {},
   "outputs": [],
   "source": [
    "viewer_info = env.get_viewer_info()\n",
    "print (viewer_info)"
   ]
  },
  {
   "cell_type": "markdown",
   "id": "bb51b818",
   "metadata": {},
   "source": [
    "### Render again with restoring previous viewer information "
   ]
  },
  {
   "cell_type": "code",
   "execution_count": null,
   "id": "4dd46469",
   "metadata": {},
   "outputs": [],
   "source": [
    "env.init_viewer(window_width=0.5,window_height=0.5,\n",
    "                cam_azimuth=viewer_info['cam_azimuth'],cam_distance=viewer_info['cam_distance'],\n",
    "                cam_elevation=viewer_info['cam_elevation'],cam_lookat=viewer_info['cam_lookat']\n",
    "               )\n",
    "env.reset()\n",
    "max_tick = 5000\n",
    "while env.tick < max_tick:\n",
    "    env.step()\n",
    "    env.render()\n",
    "print (\"Done.\")"
   ]
  },
  {
   "cell_type": "code",
   "execution_count": null,
   "id": "df39645f",
   "metadata": {},
   "outputs": [],
   "source": [
    "env.forward_renders()\n",
    "env.plot_scene(figsize=(8,5),render_expand=2.0,title_str='Panda (tick:%d)'%(env.tick),title_fs=11)"
   ]
  },
  {
   "cell_type": "code",
   "execution_count": null,
   "id": "31e1c335",
   "metadata": {},
   "outputs": [],
   "source": []
  },
  {
   "cell_type": "code",
   "execution_count": null,
   "id": "2ad2810e",
   "metadata": {},
   "outputs": [],
   "source": []
  }
 ],
 "metadata": {
  "kernelspec": {
   "display_name": "Python 3 (ipykernel)",
   "language": "python",
   "name": "python3"
  },
  "language_info": {
   "codemirror_mode": {
    "name": "ipython",
    "version": 3
   },
   "file_extension": ".py",
   "mimetype": "text/x-python",
   "name": "python",
   "nbconvert_exporter": "python",
   "pygments_lexer": "ipython3",
   "version": "3.9.13"
  }
 },
 "nbformat": 4,
 "nbformat_minor": 5
}
