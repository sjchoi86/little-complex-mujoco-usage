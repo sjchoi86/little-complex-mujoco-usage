{
 "cells": [
  {
   "cell_type": "markdown",
   "id": "6a9f31fb",
   "metadata": {},
   "source": [
    "### Rendering of `Panda`"
   ]
  },
  {
   "cell_type": "code",
   "execution_count": 1,
   "id": "1bd981aa",
   "metadata": {},
   "outputs": [
    {
     "name": "stdout",
     "output_type": "stream",
     "text": [
      "Ready.\n"
     ]
    }
   ],
   "source": [
    "import mujoco_py\n",
    "import numpy as np\n",
    "import matplotlib.pyplot as plt\n",
    "from screeninfo import get_monitors # get monitor size\n",
    "from mujoco_parser import MuJoCoParserClass\n",
    "from util import rpy2r\n",
    "np.set_printoptions(precision=2)\n",
    "plt.rc('xtick',labelsize=6); plt.rc('ytick',labelsize=6)\n",
    "%config InlineBackend.figure_format = 'retina'\n",
    "%matplotlib inline\n",
    "print (\"Ready.\")"
   ]
  },
  {
   "cell_type": "markdown",
   "id": "2d017c69",
   "metadata": {},
   "source": [
    "### Parse and render"
   ]
  },
  {
   "cell_type": "code",
   "execution_count": 2,
   "id": "2868f7b8",
   "metadata": {},
   "outputs": [
    {
     "name": "stdout",
     "output_type": "stream",
     "text": [
      "[Panda] parsed.\n"
     ]
    }
   ],
   "source": [
    "env = MuJoCoParserClass(name='Panda',xml_path='../asset/panda/franka_panda.xml')\n",
    "print (\"[%s] parsed.\"%(env.name))"
   ]
  },
  {
   "cell_type": "code",
   "execution_count": null,
   "id": "9f7e8d8a",
   "metadata": {},
   "outputs": [],
   "source": [
    "env.init_viewer(window_width=0.5,window_height=0.5,\n",
    "                cam_azimuth=80.0,cam_distance=3.0,\n",
    "                cam_elevation=-30.0,cam_lookat=np.array([0,0,1.5]))\n",
    "env.reset()\n",
    "max_tick = 5000\n",
    "while env.tick < max_tick:\n",
    "    env.step()\n",
    "    env.render()\n",
    "print (\"Done.\")"
   ]
  },
  {
   "cell_type": "code",
   "execution_count": null,
   "id": "cd3ac6c3",
   "metadata": {},
   "outputs": [],
   "source": [
    "env.forward_renders()\n",
    "env.plot_scene(figsize=(8,5),render_expand=2.0,title_str='Panda (tick:%d)'%(env.tick),title_fs=11)"
   ]
  },
  {
   "cell_type": "markdown",
   "id": "14efac06",
   "metadata": {},
   "source": [
    "### Get viewer information"
   ]
  },
  {
   "cell_type": "code",
   "execution_count": null,
   "id": "12eb478a",
   "metadata": {},
   "outputs": [],
   "source": [
    "viewer_info = env.get_viewer_info()\n",
    "print (viewer_info)"
   ]
  },
  {
   "cell_type": "markdown",
   "id": "bb51b818",
   "metadata": {},
   "source": [
    "### Render again with restoring previous viewer information "
   ]
  },
  {
   "cell_type": "code",
   "execution_count": null,
   "id": "4dd46469",
   "metadata": {},
   "outputs": [],
   "source": [
    "env.init_viewer(window_width=0.5,window_height=0.5,\n",
    "                cam_azimuth=viewer_info['cam_azimuth'],cam_distance=viewer_info['cam_distance'],\n",
    "                cam_elevation=viewer_info['cam_elevation'],cam_lookat=viewer_info['cam_lookat']\n",
    "               )\n",
    "env.reset()\n",
    "max_tick = 5000\n",
    "while env.tick < max_tick:\n",
    "    env.step()\n",
    "    env.render()\n",
    "print (\"Done.\")"
   ]
  },
  {
   "cell_type": "code",
   "execution_count": null,
   "id": "df39645f",
   "metadata": {},
   "outputs": [],
   "source": [
    "env.forward_renders()\n",
    "env.plot_scene(figsize=(8,5),render_expand=2.0,title_str='Panda (tick:%d)'%(env.tick),title_fs=11)"
   ]
  },
  {
   "cell_type": "markdown",
   "id": "0acda849",
   "metadata": {},
   "source": [
    "### Add markers"
   ]
  },
  {
   "cell_type": "code",
   "execution_count": null,
   "id": "c5f08eae",
   "metadata": {},
   "outputs": [],
   "source": [
    "env.body_names"
   ]
  },
  {
   "cell_type": "code",
   "execution_count": 31,
   "id": "db50e079",
   "metadata": {
    "scrolled": true
   },
   "outputs": [
    {
     "name": "stdout",
     "output_type": "stream",
     "text": [
      "Done.\n"
     ]
    }
   ],
   "source": [
    "env.init_viewer(window_width=0.5,window_height=0.5,\n",
    "                cam_azimuth=80.0,cam_distance=5.0,\n",
    "                cam_elevation=3.0,cam_lookat=np.array([0,0,1.5]))\n",
    "env.reset()\n",
    "max_tick = 5000\n",
    "while env.tick < max_tick:\n",
    "    env.step()\n",
    "    \n",
    "    p_eef = env.get_p_body(body_name='panda_eef')\n",
    "    R_eef = env.get_R_body(body_name='panda_eef')\n",
    "    \n",
    "    # Plot plane\n",
    "    p_plane = [1.0,0.0,0.1]\n",
    "    env.viewer.add_marker(\n",
    "        pos   = p_plane,\n",
    "        type  = mujoco_py.generated.const.GEOM_PLANE,\n",
    "        size  = [0.25,0.25,0.0],\n",
    "        mat   = np.eye(3),\n",
    "        rgba  = [0.0,1.0,1.0,1.0],\n",
    "        label = 'Plane'\n",
    "    )\n",
    "    \n",
    "    # Plot sphere\n",
    "    p_sphere = [1.0,0.0,0.25]\n",
    "    env.viewer.add_marker(\n",
    "        pos   = p_sphere,\n",
    "        type  = mujoco_py.generated.const.GEOM_SPHERE,\n",
    "        size  = [0.05,0.05,0.05],\n",
    "        mat   = np.eye(3),\n",
    "        rgba  = [1.0,0.0,0.0,0.5],\n",
    "        label = 'Sphere'\n",
    "    )\n",
    "    \n",
    "    # Plot box\n",
    "    p_box = [1.0,0.0,0.5]\n",
    "    env.viewer.add_marker(\n",
    "        pos   = p_box,\n",
    "        type  = mujoco_py.generated.const.GEOM_BOX,\n",
    "        size  = [0.05,0.05,0.05],\n",
    "        mat   = np.eye(3),\n",
    "        rgba  = [0.0,1.0,0.0,0.5],\n",
    "        label = 'Box'\n",
    "    )\n",
    "    \n",
    "    # Plot capsule\n",
    "    p_capsule = [1.0,0.0,0.75]\n",
    "    env.viewer.add_marker(\n",
    "        pos   = p_capsule,\n",
    "        type  = mujoco_py.generated.const.GEOM_CAPSULE,\n",
    "        size  = [0.05,0.05,0.05],\n",
    "        mat   = np.eye(3),\n",
    "        rgba  = [0.0,0.0,1.0,0.5],\n",
    "        label = 'Capsule'\n",
    "    )\n",
    "    \n",
    "    # Plot cylinder\n",
    "    p_cylinder = [1.0,0.0,1.0]\n",
    "    env.viewer.add_marker(\n",
    "        pos   = p_cylinder,\n",
    "        type  = mujoco_py.generated.const.GEOM_CYLINDER,\n",
    "        size  = [0.05,0.05,0.05],\n",
    "        mat   = np.eye(3),\n",
    "        rgba  = [1.0,1.0,0.0,0.5],\n",
    "        label = 'Cylinder'\n",
    "    )\n",
    "    \n",
    "    # Plot arrow\n",
    "    p_arrow = [1.0,0.0,1.25]\n",
    "    env.viewer.add_marker(\n",
    "        pos   = p_arrow,\n",
    "        type  = mujoco_py.generated.const.GEOM_ARROW,\n",
    "        size  = [0.05,0.05,0.25],\n",
    "        mat   = np.eye(3),\n",
    "        rgba  = [1.0,0.0,1.0,0.9],\n",
    "        label = 'Arrow'\n",
    "    )\n",
    "    \n",
    "    # Plot lines\n",
    "    p_coord = [1.0,0.0,1.5]\n",
    "    R_coord = rpy2r(np.deg2rad([0,0,0]))\n",
    "    env.viewer.add_marker(\n",
    "        pos   = p_coord,\n",
    "        type  = mujoco_py.generated.const.GEOM_LINE,\n",
    "        size  = [0.0,0.0,0.5],\n",
    "        mat   = R_coord@rpy2r(np.deg2rad([0,0,90]))@rpy2r(np.pi/2*np.array([1,0,0])),\n",
    "        rgba  = [1.0,0.0,0.0,0.9],\n",
    "        label = 'Line'\n",
    "    )\n",
    "    env.viewer.add_marker(\n",
    "        pos   = p_coord,\n",
    "        type  = mujoco_py.generated.const.GEOM_LINE,\n",
    "        size  = [0.0,0.0,0.5],\n",
    "        mat   = R_coord@rpy2r(np.deg2rad([0,0,90]))@rpy2r(np.pi/2*np.array([0,1,0])),\n",
    "        rgba  = [0.0,1.0,0.0,0.9],\n",
    "        label = ''\n",
    "    )\n",
    "    env.viewer.add_marker(\n",
    "        pos   = p_coord,\n",
    "        type  = mujoco_py.generated.const.GEOM_LINE,\n",
    "        size  = [0.0,0.0,0.5],\n",
    "        mat   = R_coord@rpy2r(np.deg2rad([0,0,90]))@rpy2r(np.pi/2*np.array([0,0,1])),\n",
    "        rgba  = [0.0,0.0,1.0,0.9],\n",
    "        label = ''\n",
    "    )\n",
    "    \n",
    "    env.render()\n",
    "print (\"Done.\")"
   ]
  },
  {
   "cell_type": "code",
   "execution_count": null,
   "id": "eb5de9f9",
   "metadata": {},
   "outputs": [],
   "source": []
  },
  {
   "cell_type": "code",
   "execution_count": 25,
   "id": "1c79b30f",
   "metadata": {},
   "outputs": [
    {
     "data": {
      "text/plain": [
       "array([1.57, 0.  , 0.  ])"
      ]
     },
     "execution_count": 25,
     "metadata": {},
     "output_type": "execute_result"
    }
   ],
   "source": []
  },
  {
   "cell_type": "code",
   "execution_count": null,
   "id": "e572f8db",
   "metadata": {},
   "outputs": [],
   "source": []
  }
 ],
 "metadata": {
  "kernelspec": {
   "display_name": "Python 3 (ipykernel)",
   "language": "python",
   "name": "python3"
  },
  "language_info": {
   "codemirror_mode": {
    "name": "ipython",
    "version": 3
   },
   "file_extension": ".py",
   "mimetype": "text/x-python",
   "name": "python",
   "nbconvert_exporter": "python",
   "pygments_lexer": "ipython3",
   "version": "3.9.13"
  }
 },
 "nbformat": 4,
 "nbformat_minor": 5
}
