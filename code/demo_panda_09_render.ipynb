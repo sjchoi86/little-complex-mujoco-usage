{
 "cells": [
  {
   "cell_type": "markdown",
   "id": "6a9f31fb",
   "metadata": {},
   "source": [
    "### Rendering of `Panda`"
   ]
  },
  {
   "cell_type": "code",
   "execution_count": 1,
   "id": "1bd981aa",
   "metadata": {},
   "outputs": [
    {
     "name": "stdout",
     "output_type": "stream",
     "text": [
      "Ready.\n"
     ]
    }
   ],
   "source": [
    "import glfw\n",
    "import numpy as np\n",
    "import matplotlib.pyplot as plt\n",
    "from screeninfo import get_monitors # get monitor size\n",
    "from mujoco_parser import MuJoCoParserClass\n",
    "np.set_printoptions(precision=2)\n",
    "plt.rc('xtick',labelsize=6); plt.rc('ytick',labelsize=6)\n",
    "%config InlineBackend.figure_format = 'retina'\n",
    "%matplotlib inline\n",
    "print (\"Ready.\")"
   ]
  },
  {
   "cell_type": "markdown",
   "id": "2d017c69",
   "metadata": {},
   "source": [
    "### Parse and render"
   ]
  },
  {
   "cell_type": "code",
   "execution_count": 2,
   "id": "9839b1fb",
   "metadata": {},
   "outputs": [
    {
     "name": "stdout",
     "output_type": "stream",
     "text": [
      "[Panda] parsed.\n"
     ]
    }
   ],
   "source": [
    "env = MuJoCoParserClass(name='Panda',xml_path='../asset/panda/franka_panda.xml')\n",
    "print (\"[%s] parsed.\"%(env.name))"
   ]
  },
  {
   "cell_type": "code",
   "execution_count": 5,
   "id": "9f7e8d8a",
   "metadata": {},
   "outputs": [
    {
     "name": "stdout",
     "output_type": "stream",
     "text": [
      "Done.\n"
     ]
    }
   ],
   "source": [
    "env.init_viewer(window_width=0.5,window_height=0.5,\n",
    "                cam_azimuth=80.0,cam_distance=3.0,\n",
    "                cam_elevation=-30.0,cam_lookat=np.array([0,0,1.5]))\n",
    "env.reset()\n",
    "max_tick = 5000\n",
    "while env.tick < max_tick:\n",
    "    env.step()\n",
    "    env.render()\n",
    "print (\"Done.\")"
   ]
  },
  {
   "cell_type": "markdown",
   "id": "3798d676",
   "metadata": {},
   "source": [
    "### Get viewer information"
   ]
  },
  {
   "cell_type": "code",
   "execution_count": 8,
   "id": "30d140ec",
   "metadata": {},
   "outputs": [
    {
     "name": "stdout",
     "output_type": "stream",
     "text": [
      "{'cam_azimuth': 76.375, 'cam_distance': 18.31717327015688, 'cam_elevation': -50.25, 'cam_lookat': array([0. , 0. , 1.5])}\n"
     ]
    }
   ],
   "source": [
    "viewer_info = env.get_viewer_info()\n",
    "print (viewer_info)"
   ]
  },
  {
   "cell_type": "markdown",
   "id": "b080baed",
   "metadata": {},
   "source": [
    "### Render again with restoring previous viewer information "
   ]
  },
  {
   "cell_type": "code",
   "execution_count": 7,
   "id": "44661e41",
   "metadata": {},
   "outputs": [
    {
     "name": "stdout",
     "output_type": "stream",
     "text": [
      "Done.\n"
     ]
    }
   ],
   "source": [
    "env.init_viewer(window_width=0.5,window_height=0.5,\n",
    "                cam_azimuth=viewer_info['cam_azimuth'],cam_distance=viewer_info['cam_distance'],\n",
    "                cam_elevation=viewer_info['cam_elevation'],cam_lookat=viewer_info['cam_lookat']\n",
    "               )\n",
    "env.reset()\n",
    "max_tick = 5000\n",
    "while env.tick < max_tick:\n",
    "    env.step()\n",
    "    env.render()\n",
    "print (\"Done.\")"
   ]
  },
  {
   "cell_type": "code",
   "execution_count": null,
   "id": "df39645f",
   "metadata": {},
   "outputs": [],
   "source": []
  }
 ],
 "metadata": {
  "kernelspec": {
   "display_name": "Python 3 (ipykernel)",
   "language": "python",
   "name": "python3"
  },
  "language_info": {
   "codemirror_mode": {
    "name": "ipython",
    "version": 3
   },
   "file_extension": ".py",
   "mimetype": "text/x-python",
   "name": "python",
   "nbconvert_exporter": "python",
   "pygments_lexer": "ipython3",
   "version": "3.9.13"
  }
 },
 "nbformat": 4,
 "nbformat_minor": 5
}
