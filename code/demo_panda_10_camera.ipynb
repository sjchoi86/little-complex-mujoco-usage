{
 "cells": [
  {
   "cell_type": "markdown",
   "id": "c3445469",
   "metadata": {},
   "source": [
    "### How to use camera "
   ]
  },
  {
   "cell_type": "code",
   "execution_count": null,
   "id": "eead1bc5",
   "metadata": {},
   "outputs": [],
   "source": [
    "import mujoco_py\n",
    "import numpy as np\n",
    "import matplotlib.pyplot as plt\n",
    "from scipy.spatial.distance import cdist\n",
    "from mujoco_parser import MuJoCoParserClass,get_env_obj_names,set_env_obj,set_env_objs,get_env_obj_poses\n",
    "from util import rpy2r\n",
    "np.set_printoptions(precision=2)\n",
    "plt.rc('xtick',labelsize=6); plt.rc('ytick',labelsize=6)\n",
    "%config InlineBackend.figure_format = 'retina'\n",
    "%matplotlib inline\n",
    "print (\"Ready.\")"
   ]
  },
  {
   "cell_type": "markdown",
   "id": "00ed01a8",
   "metadata": {},
   "source": [
    "### Parse `Panda` and place objects on the table"
   ]
  },
  {
   "cell_type": "code",
   "execution_count": null,
   "id": "43570ffa",
   "metadata": {},
   "outputs": [],
   "source": [
    "env = MuJoCoParserClass(name='Panda',xml_path='../asset/panda/franka_panda_w_objs.xml')\n",
    "env.init_viewer(window_width=0.5,window_height=0.5,\n",
    "                cam_azimuth=80.0,cam_distance=3.0,\n",
    "                cam_elevation=-30.0,cam_lookat=np.array([0,0,1.5]))\n",
    "env.reset() # reset\n",
    "# Place objects in a row on the ground\n",
    "obj_names = get_env_obj_names(env,prefix='obj_') # available objects\n",
    "colors = [plt.cm.gist_rainbow(x) for x in np.linspace(0,1,len(obj_names))]\n",
    "for obj_idx,obj_name in enumerate(obj_names):\n",
    "    obj_pos   = [-1.0,0.1*obj_idx,0.0]\n",
    "    obj_quat  = [0,0,0,1]\n",
    "    obj_color = colors[obj_idx]\n",
    "    set_env_obj(env=env,obj_name=obj_name,obj_pos=obj_pos,obj_quat=obj_quat,obj_color=obj_color)\n",
    "env.forward(INCREASE_TICK=False) # update object locations\n",
    "# Randomly place objects on the table\n",
    "n_place  = 5\n",
    "x_range  = [0.3,1.0]\n",
    "y_range  = [-0.5,0.5]\n",
    "z_range  = [1.01,1.01]\n",
    "min_dist = 0.15\n",
    "obj2place_idxs = np.random.permutation(len(obj_names))[:n_place].astype(int)\n",
    "obj2place_names = [obj_names[o_idx] for o_idx in obj2place_idxs]\n",
    "obj2place_poses = np.zeros((n_place,3))\n",
    "for o_idx in range(n_place):\n",
    "    while True:\n",
    "        x = np.random.uniform(low=x_range[0],high=x_range[1])\n",
    "        y = np.random.uniform(low=y_range[0],high=y_range[1])\n",
    "        z = np.random.uniform(low=z_range[0],high=z_range[1])\n",
    "        xyz = np.array([x,y,z])\n",
    "        if o_idx >= 1:\n",
    "            devc = cdist(xyz.reshape((-1,3)),obj2place_poses[:o_idx,:].reshape((-1,3)),'euclidean')\n",
    "            if devc.min() > min_dist: break # minimum distance between objects\n",
    "        else:\n",
    "            break\n",
    "    obj2place_poses[o_idx,:] = xyz\n",
    "set_env_objs(env,obj_names=obj2place_names,obj_poses=obj2place_poses,obj_colors=None)\n",
    "env.forward_renders()\n",
    "env.plot_scene(figsize=(8,5),render_expand=2.0,title_str='Panda (tick:%d)'%(env.tick),title_fs=11)    "
   ]
  },
  {
   "cell_type": "code",
   "execution_count": null,
   "id": "f8de4c2d",
   "metadata": {},
   "outputs": [],
   "source": []
  }
 ],
 "metadata": {
  "kernelspec": {
   "display_name": "Python 3 (ipykernel)",
   "language": "python",
   "name": "python3"
  },
  "language_info": {
   "codemirror_mode": {
    "name": "ipython",
    "version": 3
   },
   "file_extension": ".py",
   "mimetype": "text/x-python",
   "name": "python",
   "nbconvert_exporter": "python",
   "pygments_lexer": "ipython3",
   "version": "3.9.13"
  }
 },
 "nbformat": 4,
 "nbformat_minor": 5
}
